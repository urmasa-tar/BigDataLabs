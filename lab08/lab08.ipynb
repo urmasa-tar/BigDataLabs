{
 "cells": [
  {
   "cell_type": "code",
   "execution_count": 46,
   "id": "e050edb1",
   "metadata": {},
   "outputs": [],
   "source": [
    "import numpy as np\n",
    "from collections import deque"
   ]
  },
  {
   "cell_type": "code",
   "execution_count": 47,
   "id": "9f2f1d1b",
   "metadata": {},
   "outputs": [],
   "source": [
    "\n",
    "\n",
    "class Tester(object): \n",
    "    def __init__(self, inp): \n",
    "        self.outputs = [] \n",
    "        self.inputs = deque(inp) \n",
    "    def print(self, *args, sep = \" \", end = \"\\n\"): \n",
    "        text = sep.join(map(str, args)) + end \n",
    "        newlines = text.splitlines(keepends=True) \n",
    "        if self.outputs and self.outputs[-1] and self.outputs[-1][-1] != \"\\n\" and newlines: \n",
    "            self.outputs[-1] += newlines[0] \n",
    "            self.outputs.extend(newlines[1:]) \n",
    "        else: \n",
    "            self.outputs.extend(newlines) \n",
    "             \n",
    "    def input(self, *args): \n",
    "        assert self.inputs, \"Вы пытаетесь считать больше элементов, чем предусмотрено условием\" \n",
    "        return self.inputs.popleft() \n",
    "    def __enter__(self): \n",
    "        global print \n",
    "        global input \n",
    "        print = self.print \n",
    "        input = self.input \n",
    "        return self.outputs \n",
    "    def __exit__(self, *args): \n",
    "        global print \n",
    "        global input \n",
    "        del print \n",
    "        del input "
   ]
  },
  {
   "cell_type": "markdown",
   "id": "9990b936",
   "metadata": {},
   "source": [
    "<h3>Task 1</h3>"
   ]
  },
  {
   "cell_type": "code",
   "execution_count": 48,
   "id": "d40f96f4",
   "metadata": {},
   "outputs": [],
   "source": [
    "def dante():\n",
    "    s = input()\n",
    "    if s == \"лимб\":\n",
    "        print(f\"Молодец!\")\n",
    "    else:\n",
    "        print(f\"Неверно, перечитайте Данте!\")\n",
    "\n"
   ]
  },
  {
   "cell_type": "code",
   "execution_count": 49,
   "id": "6d42fb5a",
   "metadata": {},
   "outputs": [],
   "source": [
    "test_data = [ \n",
    "    (\"2\", \"Неверно, перечитайте Данте!\"), \n",
    "    (\"лимб\", \"Молодец!\"),  \n",
    "    (\"3\", \"Неверно, перечитайте Данте!\"), \n",
    "    (\"второй\", \"Неверно, перечитайте Данте!\") \n",
    "] \n",
    "for inp, out in test_data: \n",
    "    with Tester([inp]) as t: \n",
    "        dante() \n",
    "        assert len(t) == 1, \"Вам нужно вывести ровно одну строку с ответом\" \n",
    "        assert t[0] == out+\"\\n\", \"Неверный ответ, была введена строка \" + inp"
   ]
  },
  {
   "cell_type": "markdown",
   "id": "9473eee9",
   "metadata": {},
   "source": [
    "<h3>Task 2</h3>\n"
   ]
  },
  {
   "cell_type": "code",
   "execution_count": null,
   "id": "d328f0a5",
   "metadata": {},
   "outputs": [],
   "source": [
    "class rangeCalc:\n",
    "    def __init__(self):\n",
    "        pass\n",
    "\n",
    "    ranges = [\n",
    "        ((0, 34), \"Very Good\"),\n",
    "        ((34, 67), \"Good\"),\n",
    "        ((67, 100), \"Fair\"),\n",
    "        ((100, 150), \"Poor\"),\n",
    "        ((150, 201), \"Very Poor\"),\n",
    "        ((201, 1000), \"Hazardous\"),\n",
    "    ]\n",
    "\n",
    "    def get_value_for_range(self, value: int, ranges) -> str:\n",
    "        res = None\n",
    "        for (start, end), val in ranges:\n",
    "            if start <= value <= end:\n",
    "                res = val\n",
    "        return res\n",
    "    \n",
    "    def air_q(self) -> None:\n",
    "        n = int(input())\n",
    "        print(self.get_value_for_range(n, self.ranges))\n",
    "        return None\n"
   ]
  },
  {
   "cell_type": "code",
   "execution_count": 51,
   "id": "0189a759",
   "metadata": {},
   "outputs": [],
   "source": [
    "test_data = [ \n",
    "    (\"0\", \"Very Good\"), \n",
    "    (\"30\", \"Very Good\"), \n",
    "    (\"33\", \"Very Good\"), \n",
    "    (\"40\", \"Good\"), \n",
    "    (\"56\", \"Good\"), \n",
    "    (\"66\", \"Good\"), \n",
    "    (\"67\", \"Fair\"), \n",
    "    (\"80\", \"Fair\"), \n",
    "    (\"99\", \"Fair\"), \n",
    "    (\"102\", \"Poor\"), \n",
    "    (\"149\", \"Poor\"), \n",
    "    (\"150\", \"Very Poor\"), \n",
    "    (\"198\", \"Very Poor\"), \n",
    "    (\"200\", \"Very Poor\"), \n",
    "    (\"201\", \"Hazardous\"), \n",
    "    (\"230\", \"Hazardous\"), \n",
    "] \n",
    "for inp, out in test_data: \n",
    "    with Tester([inp]) as t:\n",
    "        air_check = rangeCalc()\n",
    "        air_check.air_q()\n",
    "        assert len(t) == 1, \"Вам нужно вывести ровно одну строку с ответом\" \n",
    "        assert t[0] == out+\"\\n\", \"Неверный ответ, была введена строка \" + inp"
   ]
  },
  {
   "cell_type": "markdown",
   "id": "455d70e8",
   "metadata": {},
   "source": [
    "<h3>Task 3</h3>"
   ]
  },
  {
   "cell_type": "code",
   "execution_count": 52,
   "id": "09c9f992",
   "metadata": {},
   "outputs": [],
   "source": [
    "def stay_or_not():\n",
    "\n",
    "    dict_to_B = {\n",
    "        \"no\":False,\n",
    "        \"yes\":True\n",
    "    }\n",
    "\n",
    "    stay = \"Вовка, ты знаешь...\" \n",
    "    leave = \"Goodbye, my love, goodbye!\"\n",
    "\n",
    "    sound_P = int(input())\n",
    "    is_coach_Legal = dict_to_B[input()]\n",
    "    is_chair_Legal = dict_to_B[input()]\n",
    "\n",
    "    if((sound_P >= 28) and (is_chair_Legal or is_coach_Legal)):\n",
    "        print(stay)\n",
    "    else:\n",
    "        print(leave)\n",
    "\n",
    "\n"
   ]
  },
  {
   "cell_type": "code",
   "execution_count": 53,
   "id": "f0170a87",
   "metadata": {},
   "outputs": [],
   "source": [
    "test_data = [ \n",
    "    (\"28 no yes\", \"Вовка, ты знаешь...\"), \n",
    "    (\"28 yes no\", \"Вовка, ты знаешь...\"), \n",
    "    (\"28 yes yes\", \"Вовка, ты знаешь...\"), \n",
    "    (\"28 no no\", \"Goodbye, my love, goodbye!\"), \n",
    "    (\"25 yes yes\", \"Goodbye, my love, goodbye!\"), \n",
    "    (\"32 no no\", \"Goodbye, my love, goodbye!\"), \n",
    "    (\"30 yes no\", \"Вовка, ты знаешь...\"), \n",
    "    (\"35 no yes\", \"Вовка, ты знаешь...\"), \n",
    "    (\"24 yes yes\", \"Goodbye, my love, goodbye!\") \n",
    "] \n",
    "for inp, out in test_data: \n",
    "    with Tester(inp.split()) as t: \n",
    "        stay_or_not() \n",
    "        assert len(t) == 1, \"Вам нужно вывести ровно одну строку с ответом\" \n",
    "        assert t[0] == out+\"\\n\", \"Неверный ответ, была введена строка \" + inp "
   ]
  },
  {
   "cell_type": "markdown",
   "id": "990d8675",
   "metadata": {},
   "source": [
    "<h3>Task 4</h3>"
   ]
  },
  {
   "cell_type": "code",
   "execution_count": 54,
   "id": "a17d339f",
   "metadata": {},
   "outputs": [],
   "source": [
    "def spb():\n",
    "    # Сохраняем строки с текстовыми комментариями в переменные\n",
    "    hello1 = \"Добро пожаловать!\"\n",
    "    hello2 = \"Рады видеть Вас снова!\"\n",
    "    verdict1 = \"Ваша прическа: легкий бриз!\"\n",
    "    verdict2 = \"Ваша прическа: ураган Сюрприз!\"\n",
    "\n",
    "    # Запрашиваем у пользователя информацию\n",
    "    place = input(\"Введите название места, где вы находитесь в Петербурге: \")\n",
    "    visit_count = int(input(\"Введите, какой раз вы посещаете Санкт-Петербург: \"))\n",
    "\n",
    "    # Определяем, какое приветственное сообщение выводить\n",
    "    if visit_count == 1:\n",
    "        print(hello1)\n",
    "    else:\n",
    "        print(hello2)\n",
    "\n",
    "    # Определяем, какое сообщение о прическе выводить\n",
    "    if place.lower() in [\"канонерский остров\", \"канонерка\"]:\n",
    "        print(verdict2)\n",
    "    else:\n",
    "        print(verdict1)"
   ]
  },
  {
   "cell_type": "code",
   "execution_count": 55,
   "id": "c437f087",
   "metadata": {},
   "outputs": [],
   "source": [
    "test_data = [ \n",
    "    (\"Канонерский остров;1\", [\"Добро пожаловать!\\n\", \"Ваша прическа: ураган Сюрприз!\\n\"]), \n",
    "    (\"Канонерка;2\", [\"Рады видеть Вас снова!\\n\", \"Ваша прическа: ураган Сюрприз!\\n\"]), \n",
    "    (\"Заячий остров;2\", [\"Рады видеть Вас снова!\\n\", \"Ваша прическа: легкий бриз!\\n\"]), \n",
    "    (\"Новая Голландия;1\", [\"Добро пожаловать!\\n\", \"Ваша прическа: легкий бриз!\\n\"]), \n",
    "    (\"Пионерская площадь;3\", [\"Рады видеть Вас снова!\\n\", \"Ваша прическа: легкий бриз!\\n\"]), \n",
    "    (\"Таврический сад;1\", [\"Добро пожаловать!\\n\", \"Ваша прическа: легкий бриз!\\n\"]) \n",
    "] \n",
    " \n",
    "for inp, out in test_data: \n",
    "    with Tester(inp.split(\";\")) as t: \n",
    "        spb() \n",
    "        line_t = \"\".join(t) \n",
    "        t = line_t.splitlines() \n",
    "        assert len(t) == len(out), \"Неверное количество строк в выводе\" \n",
    "        for l_test, l_out in zip(t, out): \n",
    "            assert len(l_test.split()) == len(l_out.split()), \"Неверное количество элементов в строке \" + l_out \n",
    "            for el_test, el_out in zip(l_test.split(), l_out.split()): \n",
    "                assert el_test == el_out, \"Ошибка {} != {}\".format(l_test,  \n",
    "                                                                   l_out) "
   ]
  }
 ],
 "metadata": {
  "kernelspec": {
   "display_name": "Python 3",
   "language": "python",
   "name": "python3"
  },
  "language_info": {
   "codemirror_mode": {
    "name": "ipython",
    "version": 3
   },
   "file_extension": ".py",
   "mimetype": "text/x-python",
   "name": "python",
   "nbconvert_exporter": "python",
   "pygments_lexer": "ipython3",
   "version": "3.13.3"
  }
 },
 "nbformat": 4,
 "nbformat_minor": 5
}
