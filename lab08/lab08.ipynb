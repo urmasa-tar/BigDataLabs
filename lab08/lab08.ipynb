{
 "cells": [
  {
   "cell_type": "code",
   "execution_count": 1,
   "id": "e050edb1",
   "metadata": {},
   "outputs": [],
   "source": [
    "import numpy as np\n",
    "from collections import deque"
   ]
  },
  {
   "cell_type": "code",
   "execution_count": 2,
   "id": "9f2f1d1b",
   "metadata": {},
   "outputs": [],
   "source": [
    "\n",
    "\n",
    "class Tester(object): \n",
    "    def __init__(self, inp): \n",
    "        self.outputs = [] \n",
    "        self.inputs = deque(inp) \n",
    "    def print(self, *args, sep = \" \", end = \"\\n\"): \n",
    "        text = sep.join(map(str, args)) + end \n",
    "        newlines = text.splitlines(keepends=True) \n",
    "        if self.outputs and self.outputs[-1] and self.outputs[-1][-1] != \"\\n\" and newlines: \n",
    "            self.outputs[-1] += newlines[0] \n",
    "            self.outputs.extend(newlines[1:]) \n",
    "        else: \n",
    "            self.outputs.extend(newlines) \n",
    "             \n",
    "    def input(self, *args): \n",
    "        assert self.inputs, \"Вы пытаетесь считать больше элементов, чем предусмотрено условием\" \n",
    "        return self.inputs.popleft() \n",
    "    def __enter__(self): \n",
    "        global print \n",
    "        global input \n",
    "        print = self.print \n",
    "        input = self.input \n",
    "        return self.outputs \n",
    "    def __exit__(self, *args): \n",
    "        global print \n",
    "        global input \n",
    "        del print \n",
    "        del input "
   ]
  },
  {
   "cell_type": "markdown",
   "id": "9990b936",
   "metadata": {},
   "source": [
    "<h3>Task 1</h3>"
   ]
  },
  {
   "cell_type": "code",
   "execution_count": null,
   "id": "d40f96f4",
   "metadata": {},
   "outputs": [],
   "source": [
    "def dante():\n",
    "    s = input()\n",
    "    if s == \"Лимб\":\n",
    "        print(f\"Молодец!\")\n",
    "    else:\n",
    "        print(f\"Неверно, перечитайте Данте!\")\n",
    "\n"
   ]
  },
  {
   "cell_type": "code",
   "execution_count": 4,
   "id": "6d42fb5a",
   "metadata": {},
   "outputs": [
    {
     "ename": "TypeError",
     "evalue": "dante() missing 1 required positional argument: 's'",
     "output_type": "error",
     "traceback": [
      "\u001b[1;31m---------------------------------------------------------------------------\u001b[0m",
      "\u001b[1;31mTypeError\u001b[0m                                 Traceback (most recent call last)",
      "Cell \u001b[1;32mIn[4], line 9\u001b[0m\n\u001b[0;32m      7\u001b[0m \u001b[38;5;28;01mfor\u001b[39;00m inp, out \u001b[38;5;129;01min\u001b[39;00m test_data: \n\u001b[0;32m      8\u001b[0m     \u001b[38;5;28;01mwith\u001b[39;00m Tester([inp]) \u001b[38;5;28;01mas\u001b[39;00m t: \n\u001b[1;32m----> 9\u001b[0m         \u001b[43mdante\u001b[49m\u001b[43m(\u001b[49m\u001b[43m)\u001b[49m \n\u001b[0;32m     10\u001b[0m         \u001b[38;5;28;01massert\u001b[39;00m \u001b[38;5;28mlen\u001b[39m(t) \u001b[38;5;241m==\u001b[39m \u001b[38;5;241m1\u001b[39m, \u001b[38;5;124m\"\u001b[39m\u001b[38;5;124mВам нужно вывести ровно одну строку с ответом\u001b[39m\u001b[38;5;124m\"\u001b[39m \n\u001b[0;32m     11\u001b[0m         \u001b[38;5;28;01massert\u001b[39;00m t[\u001b[38;5;241m0\u001b[39m] \u001b[38;5;241m==\u001b[39m out\u001b[38;5;241m+\u001b[39m\u001b[38;5;124m\"\u001b[39m\u001b[38;5;130;01m\\n\u001b[39;00m\u001b[38;5;124m\"\u001b[39m, \u001b[38;5;124m\"\u001b[39m\u001b[38;5;124mНеверный ответ, была введена строка \u001b[39m\u001b[38;5;124m\"\u001b[39m \u001b[38;5;241m+\u001b[39m inp\n",
      "\u001b[1;31mTypeError\u001b[0m: dante() missing 1 required positional argument: 's'"
     ]
    }
   ],
   "source": [
    "test_data = [ \n",
    "    (\"2\", \"Неверно, перечитайте Данте!\"), \n",
    "    (\"лимб\", \"Молодец!\"),  \n",
    "    (\"3\", \"Неверно, перечитайте Данте!\"), \n",
    "    (\"второй\", \"Неверно, перечитайте Данте!\") \n",
    "] \n",
    "for inp, out in test_data: \n",
    "    with Tester([inp]) as t: \n",
    "        dante() \n",
    "        assert len(t) == 1, \"Вам нужно вывести ровно одну строку с ответом\" \n",
    "        assert t[0] == out+\"\\n\", \"Неверный ответ, была введена строка \" + inp"
   ]
  }
 ],
 "metadata": {
  "kernelspec": {
   "display_name": "Python 3",
   "language": "python",
   "name": "python3"
  },
  "language_info": {
   "codemirror_mode": {
    "name": "ipython",
    "version": 3
   },
   "file_extension": ".py",
   "mimetype": "text/x-python",
   "name": "python",
   "nbconvert_exporter": "python",
   "pygments_lexer": "ipython3",
   "version": "3.13.3"
  }
 },
 "nbformat": 4,
 "nbformat_minor": 5
}
