{
 "cells": [
  {
   "cell_type": "code",
   "execution_count": 8,
   "metadata": {},
   "outputs": [],
   "source": [
    "# Libes for lab 08"
   ]
  },
  {
   "cell_type": "markdown",
   "metadata": {},
   "source": [
    "<h4>Задача 1</h4>"
   ]
  },
  {
   "cell_type": "code",
   "execution_count": 15,
   "metadata": {},
   "outputs": [
    {
     "data": {
      "text/plain": [
       "2"
      ]
     },
     "execution_count": 15,
     "metadata": {},
     "output_type": "execute_result"
    }
   ],
   "source": [
    "def count_on_me() -> int:\n",
    "    res = 0 \n",
    "    n = input()\n",
    "    m = input()\n",
    "    if len(m) > 1:\n",
    "        m = m[0]\n",
    "    res = n.count(m)\n",
    "    return res\n",
    "count_on_me() "
   ]
  },
  {
   "cell_type": "markdown",
   "metadata": {},
   "source": [
    "<h4>Задача 2</h4>"
   ]
  },
  {
   "cell_type": "code",
   "execution_count": 16,
   "metadata": {},
   "outputs": [
    {
     "name": "stdout",
     "output_type": "stream",
     "text": [
      "['review.doc', 'mydoc.docx', 'Заявление.docx', 'Заявление(копия).docx', 'Сценарий.doc']\n"
     ]
    }
   ],
   "source": [
    "dict ={\"doc\":0, \"docx\":1}\n",
    "\n",
    "def to_dock_files(files: str) -> list[str]:\n",
    "    res = []\n",
    "    for name in files:\n",
    "        fl_name, rash = name.split('.')\n",
    "        if(rash in dict.keys()):\n",
    "            res.append(name)\n",
    "        #print(rash)\n",
    "        #print(dict[0].keys)\n",
    "    return res\n",
    "\n",
    "files = [\"review.doc\", \"main.html\", \"mydoc.docx\", \"dreams-data.csv\", \"intro.R\",  \n",
    "\"hw01.tex\", \"Заявление.docx\", \"Заявление(копия).docx\", \"Расписание.xlsx\", \"Сценарий.doc\"]\n",
    "\n",
    "print(to_dock_files(files))"
   ]
  },
  {
   "cell_type": "markdown",
   "metadata": {},
   "source": [
    "<h4>Задание 3</h4>"
   ]
  },
  {
   "cell_type": "code",
   "execution_count": 17,
   "metadata": {},
   "outputs": [
    {
     "name": "stdout",
     "output_type": "stream",
     "text": [
      "('8', 3, '8', 0, '8', 0, '&', 4, '&', 0, '&', 0, '&', 0, '1', 5, '1', 0, '1', 0, '1', 0, '1', 0)\n"
     ]
    }
   ],
   "source": [
    "def count_symbols(input_string):\n",
    "    cleaned_string = input_string.replace(\" \", \"\")\n",
    "\n",
    "    result = []\n",
    "\n",
    "    for char in cleaned_string:\n",
    "        count = cleaned_string.count(char)\n",
    "        result.append(char)\n",
    "        result.append(count)\n",
    "\n",
    "        cleaned_string = cleaned_string.replace(char, '')\n",
    "\n",
    "    return tuple(result)\n",
    "\n",
    "input_string = input()\n",
    "output = count_symbols(input_string)\n",
    "print(output)\n"
   ]
  },
  {
   "cell_type": "markdown",
   "metadata": {},
   "source": [
    "<h4>Задача 4</h4>"
   ]
  },
  {
   "cell_type": "code",
   "execution_count": 18,
   "metadata": {},
   "outputs": [
    {
     "name": "stdout",
     "output_type": "stream",
     "text": [
      "And we were caught in our sleep : 3\n",
      "Bargain, playing smart, aching in our hearts : 1\n",
      "But on the darkest of nights : 3\n",
      "But then again you were lost from the start : 1\n",
      "Down in the street, they're all singing and shouting : 1\n",
      "Hiding their shame behind hollow laughter : 1\n",
      "I only saw it as dreams you would weave : 3\n",
      "I watched the ship leaving harbor at sunrise : 1\n",
      "I'm sorry Cassandra : 5\n",
      "Knowing, though you're late, that ship is sure to wait : 1\n",
      "Listen to words of warning : 3\n",
      "No one else sees it, but you know your fate : 1\n",
      "Nobody knew how to fight : 3\n",
      "Now that your father and sister are gone : 1\n",
      "Now the last day is dawning : 3\n",
      "Now we must suffer and sell our secrets : 1\n",
      "Packing your bags, being slow and thorough : 1\n",
      "Pity Cassandra that no one believed you : 1\n",
      "Rigid and restrained, blue eyes filled with pain : 1\n",
      "Sails almost slack in the cool morning rain : 1\n",
      "She stood on deck, just a tiny figure : 1\n",
      "So in the morning your ship will be sailing : 1\n",
      "Some of us wanted, but none of us would : 3\n",
      "Sorry Cassandra, I didn't believe : 3\n",
      "Sorry Cassandra, I misunderstood : 3\n",
      "Staying alive though the city is dead : 1\n",
      "There is no reason for you to linger : 1\n",
      "Until the final hour : 3\n",
      "While you are crying alone on your bed : 1\n",
      "You know the future is casting a shadow : 1\n",
      "You really had the power : 3\n",
      "You're grieving deeply but still moving on : 1\n"
     ]
    },
    {
     "name": "stderr",
     "output_type": "stream",
     "text": [
      "<>:11: SyntaxWarning: invalid escape sequence '\\d'\n",
      "<>:11: SyntaxWarning: invalid escape sequence '\\d'\n",
      "C:\\Users\\urmasa\\AppData\\Local\\Temp\\ipykernel_15404\\2505103720.py:11: SyntaxWarning: invalid escape sequence '\\d'\n",
      "  file_path = '.\\data\\casandra.txt'\n"
     ]
    }
   ],
   "source": [
    "def read_lines_from_file(file_path):\n",
    "    try:\n",
    "        with open(file_path, 'r', encoding='utf-8') as file:\n",
    "            lines = file.readlines()\n",
    "            return lines\n",
    "    except FileNotFoundError:\n",
    "        return f\"Файл {file_path} не найден.\"\n",
    "    except Exception as e:\n",
    "        return f\"Произошла ошибка: {e}\"\n",
    "\n",
    "file_path = '.\\data\\casandra.txt'\n",
    "with open(file_path, 'r', encoding='utf-8') as file:\n",
    "            lines = file.readlines()\n",
    "\n",
    "lines = read_lines_from_file(file_path)\n",
    "\n",
    "st_arr = []\n",
    "for line in lines:\n",
    "    st_arr.append(line.strip())\n",
    "\n",
    "st_arr.sort()\n",
    "past = \"-1\"\n",
    "count = 0\n",
    "for st in st_arr:\n",
    "    if(past == \"-1\"):\n",
    "        past = st\n",
    "        count = 1\n",
    "    else:\n",
    "        if(st == past):\n",
    "            count += 1\n",
    "        else:\n",
    "            print(f\"{past} : {count}\")\n",
    "            past = st\n",
    "            count = 1\n",
    "print(f\"{past} : {count}\")"
   ]
  }
 ],
 "metadata": {
  "kernelspec": {
   "display_name": "Python 3",
   "language": "python",
   "name": "python3"
  },
  "language_info": {
   "codemirror_mode": {
    "name": "ipython",
    "version": 3
   },
   "file_extension": ".py",
   "mimetype": "text/x-python",
   "name": "python",
   "nbconvert_exporter": "python",
   "pygments_lexer": "ipython3",
   "version": "3.13.2"
  }
 },
 "nbformat": 4,
 "nbformat_minor": 2
}
