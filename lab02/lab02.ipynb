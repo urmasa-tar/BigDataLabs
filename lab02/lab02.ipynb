{
 "cells": [
  {
   "cell_type": "code",
   "execution_count": 18,
   "metadata": {},
   "outputs": [],
   "source": [
    "import os\n",
    "\n",
    "import numpy as np\n",
    "import pandas as pd\n",
    "\n",
    "import matplotlib.pyplot as plt"
   ]
  },
  {
   "cell_type": "markdown",
   "metadata": {},
   "source": [
    "<h5>1) Big array generation</h5>\n",
    "<p>The aim here is to generate array with pandas</p>"
   ]
  },
  {
   "cell_type": "code",
   "execution_count": 19,
   "metadata": {},
   "outputs": [],
   "source": [
    "original_directory = os.getcwd()\n",
    "\n",
    "# Dictionary for DataFrame base\n",
    "data = {\n",
    "    'Column1': np.random.rand(1000000),  # 1 milion of random numbers\n",
    "    'Column2': np.random.rand(1000000),\n",
    "    'Column3': np.random.rand(1000000)\n",
    "}\n",
    "\n",
    "df = pd.DataFrame(data)"
   ]
  },
  {
   "cell_type": "code",
   "execution_count": 20,
   "metadata": {},
   "outputs": [
    {
     "name": "stdout",
     "output_type": "stream",
     "text": [
      "Error: Path './data' doeen't exist.\n",
      "Current directory is c:\\Users\\urmasa\\Documents\\madi\\bigData\\BigDataLabs\\lab02\\data\n",
      "         Column1   Column2   Column3\n",
      "0       0.473905  0.476081  0.582501\n",
      "1       0.134038  0.014684  0.413662\n",
      "2       0.213416  0.710816  0.346447\n",
      "3       0.205589  0.970492  0.061554\n",
      "4       0.755925  0.235992  0.543007\n",
      "...          ...       ...       ...\n",
      "999995  0.397872  0.142638  0.260621\n",
      "999996  0.877408  0.385528  0.584849\n",
      "999997  0.897775  0.530834  0.108845\n",
      "999998  0.940927  0.638961  0.906721\n",
      "999999  0.683966  0.541048  0.133335\n",
      "\n",
      "[1000000 rows x 3 columns]\n"
     ]
    }
   ],
   "source": [
    "original_directory = os.getcwd()\n",
    "directory_path = './data'\n",
    "stat = False\n",
    "try:\n",
    "    os.chdir(directory_path)\n",
    "except FileNotFoundError:\n",
    "    print(f\"Error: Path '{directory_path}' doeen't exist.\")\n",
    "    # os.chdir()\n",
    "    print(f\"Current directory is {os.getcwd()}\")\n",
    "    stat = True\n",
    "except PermissionError:\n",
    "    print(f\"No rights for '{directory_path}'.\")\n",
    "    stat = True\n",
    "except Exception as e:\n",
    "    print(f\"Some unecpeected error - {e}\")\n",
    "    stat = True\n",
    "\n",
    "df.to_csv('full_data.csv', index=False)\n",
    "print(df)\n",
    "\n",
    "os.chdir(original_directory)"
   ]
  },
  {
   "cell_type": "code",
   "execution_count": null,
   "metadata": {},
   "outputs": [],
   "source": []
  }
 ],
 "metadata": {
  "kernelspec": {
   "display_name": "Python 3",
   "language": "python",
   "name": "python3"
  },
  "language_info": {
   "codemirror_mode": {
    "name": "ipython",
    "version": 3
   },
   "file_extension": ".py",
   "mimetype": "text/x-python",
   "name": "python",
   "nbconvert_exporter": "python",
   "pygments_lexer": "ipython3",
   "version": "3.13.2"
  }
 },
 "nbformat": 4,
 "nbformat_minor": 2
}
