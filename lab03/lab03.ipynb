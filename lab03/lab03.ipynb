{
 "cells": [
  {
   "cell_type": "markdown",
   "metadata": {},
   "source": [
    "<h3>Лабораторная работа 03</h3>"
   ]
  },
  {
   "cell_type": "code",
   "execution_count": 20,
   "metadata": {},
   "outputs": [],
   "source": [
    "import numpy as np \n",
    "import pandas as pd \n",
    "\n",
    "import matplotlib.pyplot as plt\n",
    "\n",
    "from sklearn.impute import SimpleImputer"
   ]
  },
  {
   "cell_type": "markdown",
   "metadata": {},
   "source": [
    "<h4>1) Generation of data</h4>\n",
    "<p>The aim is to create DataFrame with some NA varibles</p>"
   ]
  },
  {
   "cell_type": "code",
   "execution_count": 21,
   "metadata": {},
   "outputs": [
    {
     "name": "stdout",
     "output_type": "stream",
     "text": [
      "  name_of_Stuff  cost_of_Stuff  count_in_stock\n",
      "0        roller          100.0             1.0\n",
      "1          surf          200.0             2.0\n",
      "2        laptop            NaN             3.0\n",
      "3          desk          350.0             6.0\n",
      "4  plate_Holder           50.0             NaN\n"
     ]
    }
   ],
   "source": [
    "df = pd.DataFrame({\n",
    "    'name_of_Stuff': ['roller', 'surf', 'laptop', 'desk', 'plate_Holder', np.nan],\n",
    "    'cost_of_Stuff': [100, 200, np.nan, 350, 50, 700],\n",
    "    'count_in_stock': [1, 2, 3, 6, np.nan, np.nan]\n",
    "})\n",
    "\n",
    "print(df.head())"
   ]
  },
  {
   "cell_type": "code",
   "execution_count": 22,
   "metadata": {},
   "outputs": [
    {
     "name": "stdout",
     "output_type": "stream",
     "text": [
      "name_of_Stuff     1\n",
      "cost_of_Stuff     1\n",
      "count_in_stock    2\n",
      "dtype: int64\n"
     ]
    }
   ],
   "source": [
    "nan_counts = df.isna().sum()\n",
    "print(nan_counts)\n",
    "\n",
    "#df['name_of_Stuff'] = df['name_of_Stuff'].fillna(df['cost_of_Stuff'].drop())\n",
    "#df['cost_of_Stuff'] = df['cost_of_Stuff'].fillna(df['cost_of_Stuff'].median)\n",
    "# df['isAliveFather'] = df['isAliveFather'].fillna(df['isAliveFather'].median)\n",
    "\n",
    "# nan_counts = df.isna().sum()\n",
    "# print(nan_counts)"
   ]
  },
  {
   "cell_type": "markdown",
   "metadata": {},
   "source": [
    "<h4>2) Clean data with special function</h4>"
   ]
  },
  {
   "cell_type": "code",
   "execution_count": 23,
   "metadata": {},
   "outputs": [],
   "source": [
    "data = pd.DataFrame({\n",
    "    'numeric': [1, 2, None, 4],\n",
    "    'text': ['a', 'b', None, 'd']\n",
    "})\n",
    "\n",
    "# Очистка данных\n",
    "cleaned_data = data.dropna()"
   ]
  },
  {
   "cell_type": "markdown",
   "metadata": {},
   "source": [
    "<h4>3) Vean except Nan data</h4>"
   ]
  },
  {
   "cell_type": "code",
   "execution_count": 24,
   "metadata": {},
   "outputs": [],
   "source": [
    "# Создание числовой таблицы данных с пропусками\n",
    "data = pd.DataFrame({\n",
    "    'feature1': [1, 2, None, 4],\n",
    "    'feature2': [5, None, 7, 8]\n",
    "})\n",
    "\n",
    "# Заполнение пропусков средним значением\n",
    "imputer = SimpleImputer(strategy='mean')\n",
    "imputed_data = pd.DataFrame(imputer.fit_transform(data), columns=data.columns)"
   ]
  },
  {
   "cell_type": "markdown",
   "metadata": {},
   "source": [
    "<h4>4)</h4>"
   ]
  },
  {
   "cell_type": "code",
   "execution_count": null,
   "metadata": {},
   "outputs": [],
   "source": [
    "data1 = pd.Series([1, 2, 3, 4, 100])\n",
    "data2 = pd.Series([5, 6, 7, 8, 200])\n",
    "\n",
    "# Построение boxplot\n",
    "plt.boxplot([data1, data2])\n",
    "plt.show()\n",
    "\n",
    "# Удаление выбросов\n",
    "def remove_outliers(data):\n",
    "    q1 = data.quantile(0.25)\n",
    "    q3 = data.quantile(0.75)\n",
    "    iqr = q3 - q1\n",
    "    lower_bound = q1 - 1.5 * iqr\n",
    "    upper_bound = q3 + 1.5 * iqr\n",
    "    return data[(data >= lower_bound) & (data <= upper_bound)]\n",
    "\n",
    "cleaned_data1 = remove_outliers(data1)\n",
    "cleaned_data2 = remove_outliers(data2)"
   ]
  }
 ],
 "metadata": {
  "kernelspec": {
   "display_name": "Python 3",
   "language": "python",
   "name": "python3"
  },
  "language_info": {
   "codemirror_mode": {
    "name": "ipython",
    "version": 3
   },
   "file_extension": ".py",
   "mimetype": "text/x-python",
   "name": "python",
   "nbconvert_exporter": "python",
   "pygments_lexer": "ipython3",
   "version": "3.12.3"
  }
 },
 "nbformat": 4,
 "nbformat_minor": 2
}
