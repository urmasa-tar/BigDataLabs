{
 "cells": [
  {
   "cell_type": "markdown",
   "metadata": {},
   "source": [
    "# NumPy Features\n",
    "\n",
    "## Продвинутые возможности и особенности библиотеки NumPy"
   ]
  },
  {
   "cell_type": "markdown",
   "metadata": {},
   "source": [
    "## 1. Векторизация операций"
   ]
  },
  {
   "cell_type": "code",
   "execution_count": null,
   "metadata": {},
   "outputs": [],
   "source": [
    "import numpy as np\n",
    "import time\n",
    "\n",
    "# Сравнение производительности\n",
    "size = 1000000\n",
    "\n",
    "# Python lists\n",
    "py_list1 = list(range(size))\n",
    "py_list2 = list(range(size))\n",
    "\n",
    "start = time.time()\n",
    "py_result = [a + b for a, b in zip(py_list1, py_list2)]\n",
    "py_time = time.time() - start\n",
    "\n",
    "# NumPy arrays\n",
    "np_arr1 = np.arange(size)\n",
    "np_arr2 = np.arange(size)\n",
    "\n",
    "start = time.time()\n",
    "np_result = np_arr1 + np_arr2\n",
    "np_time = time.time() - start\n",
    "\n",
    "print(f\"Python list time: {py_time:.4f} seconds\")\n",
    "print(f\"NumPy array time: {np_time:.4f} seconds\")\n",
    "print(f\"Speedup: {py_time/np_time:.1f}x\")"
   ]
  },
  {
   "cell_type": "markdown",
   "metadata": {},
   "source": [
    "## 2. Broadcasting - автоматическое расширение массивов"
   ]
  },
  {
   "cell_type": "code",
   "execution_count": null,
   "metadata": {},
   "outputs": [],
   "source": [
    "# Broadcasting примеры\n",
    "arr = np.array([[1, 2, 3], [4, 5, 6], [7, 8, 9]])\n",
    "scalar = 10\n",
    "vector = np.array([1, 2, 3])\n",
    "\n",
    "print(\"Original array:\")\n",
    "print(arr)\n",
    "\n",
    "print(\"\\nArray + Scalar:\")\n",
    "print(arr + scalar)\n",
    "\n",
    "print(\"\\nArray + Vector (row):\")\n",
    "print(arr + vector)\n",
    "\n",
    "print(\"\\nArray + Vector (column):\")\n",
    "print(arr + vector.reshape(3, 1))"
   ]
  },
  {
   "cell_type": "markdown",
   "metadata": {},
   "source": [
    "## 3. Булева индексация"
   ]
  },
  {
   "cell_type": "code",
   "execution_count": null,
   "metadata": {},
   "outputs": [],
   "source": [
    "arr = np.array([1, 2, 3, 4, 5, 6, 7, 8, 9, 10])\n",
    "\n",
    "# Фильтрация элементов\n",
    "even_numbers = arr[arr % 2 == 0]\n",
    "greater_than_5 = arr[arr > 5]\n",
    "\n",
    "print(\"Original array:\", arr)\n",
    "print(\"Even numbers:\", even_numbers)\n",
    "print(\"Numbers > 5:\", greater_than_5)\n",
    "\n",
    "# Множественные условия\n",
    "condition = (arr > 3) & (arr < 8)\n",
    "filtered = arr[condition]\n",
    "print(\"Numbers between 3 and 8:\", filtered)"
   ]
  },
  {
   "cell_type": "markdown",
   "metadata": {},
   "source": [
    "## 4. Fancy Indexing"
   ]
  },
  {
   "cell_type": "code",
   "execution_count": null,
   "metadata": {},
   "outputs": [],
   "source": [
    "arr = np.array([[1, 2, 3], [4, 5, 6], [7, 8, 9]])\n",
    "\n",
    "print(\"Original array:\")\n",
    "print(arr)\n",
    "\n",
    "# Индексация списками\n",
    "rows = [0, 2]\n",
    "cols = [1, 2]\n",
    "print(\"\\nElements at [0,1] and [2,2]:\", arr[rows, cols])\n",
    "\n",
    "# Использование массивов для индексации\n",
    "row_indices = np.array([0, 1, 2])\n",
    "col_indices = np.array([2, 1, 0])\n",
    "print(\"Diagonal from top-right:\", arr[row_indices, col_indices])"
   ]
  },
  {
   "cell_type": "markdown",
   "metadata": {},
   "source": [
    "## 5. Универсальные функции (ufunc)"
   ]
  },
  {
   "cell_type": "code",
   "execution_count": null,
   "metadata": {},
   "outputs": [],
   "source": [
    "x = np.array([0, np.pi/2, np.pi])\n",
    "\n",
    "print(\"x:\", x)\n",
    "print(\"sin(x):\", np.sin(x))\n",
    "print(\"cos(x):\", np.cos(x))\n",
    "print(\"exp(x):\", np.exp(x))\n",
    "print(\"log(x+1):\", np.log(x + 1))\n",
    "\n",
    "# Агрегирующие ufunc\n",
    "arr = np.array([1, 2, 3, 4, 5])\n",
    "print(\"\\nArray:\", arr)\n",
    "print(\"cumsum:\", np.cumsum(arr))\n",
    "print(\"cumprod:\", np.cumprod(arr))"
   ]
  },
  {
   "cell_type": "markdown",
   "metadata": {},
   "source": [
    "## 6. Линейная алгебра"
   ]
  },
  {
   "cell_type": "code",
   "execution_count": null,
   "metadata": {},
   "outputs": [],
   "source": [
    "A = np.array([[1, 2], [3, 4]])\n",
    "B = np.array([[5, 6], [7, 8]])\n",
    "\n",
    "print(\"Matrix A:\")\n",
    "print(A)\n",
    "print(\"\\nMatrix B:\")\n",
    "print(B)\n",
    "\n",
    "print(\"\\nMatrix multiplication:\")\n",
    "print(np.dot(A, B))\n",
    "\n",
    "print(\"\\nDeterminant of A:\", np.linalg.det(A))\n",
    "print(\"Inverse of A:\")\n",
    "print(np.linalg.inv(A))\n",
    "\n",
    "print(\"\\nEigenvalues and eigenvectors:\")\n",
    "eigenvals, eigenvecs = np.linalg.eig(A)\n",
    "print(\"Eigenvalues:\", eigenvals)\n",
    "print(\"Eigenvectors:\")\n",
    "print(eigenvecs)"
   ]
  },
  {
   "cell_type": "markdown",
   "metadata": {},
   "source": [
    "## 7. Работа с файлами"
   ]
  },
  {
   "cell_type": "code",
   "execution_count": null,
   "metadata": {},
   "outputs": [],
   "source": [
    "# Создание тестовых данных\n",
    "data = np.random.random((5, 3))\n",
    "print(\"Original data:\")\n",
    "print(data)\n",
    "\n",
    "# Сохранение в файл\n",
    "np.savetxt('data.csv', data, delimiter=',', fmt='%.3f')\n",
    "\n",
    "# Загрузка из файла\n",
    "loaded_data = np.loadtxt('data.csv', delimiter=',')\n",
    "print(\"\\nLoaded data:\")\n",
    "print(loaded_data)\n",
    "\n",
    "# Сохранение в бинарном формате\n",
    "np.save('data.npy', data)\n",
    "binary_loaded = np.load('data.npy')\n",
    "print(\"\\nBinary loaded data:\")\n",
    "print(binary_loaded)"
   ]
  },
  {
   "cell_type": "markdown",
   "metadata": {},
   "source": [
    "## 8. Структурированные массивы"
   ]
  },
  {
   "cell_type": "code",
   "execution_count": null,
   "metadata": {},
   "outputs": [],
   "source": [
    "# Создание структурированного массива\n",
    "dtype = [('name', 'U10'), ('age', 'i4'), ('score', 'f4')]\n",
    "students = np.array([\n",
    "    ('Alice', 20, 85.5),\n",
    "    ('Bob', 22, 92.0),\n",
    "    ('Charlie', 19, 78.5)\n",
    "], dtype=dtype)\n",
    "\n",
    "print(\"Structured array:\")\n",
    "print(students)\n",
    "\n",
    "print(\"\\nNames:\", students['name'])\n",
    "print(\"Ages:\", students['age'])\n",
    "print(\"Average score:\", np.mean(students['score']))\n",
    "\n",
    "# Сортировка по возрасту\n",
    "sorted_by_age = np.sort(students, order='age')\n",
    "print(\"\\nSorted by age:\")\n",
    "print(sorted_by_age)"
   ]
  },
  {
   "cell_type": "markdown",
   "metadata": {},
   "source": [
    "## 9. Маскированные массивы"
   ]
  },
  {
   "cell_type": "code",
   "execution_count": null,
   "metadata": {},
   "outputs": [],
   "source": [
    "import numpy.ma as ma\n",
    "\n",
    "data = np.array([1, 2, -999, 4, 5, -999, 7])\n",
    "# -999 представляет пропущенные значения\n",
    "\n",
    "# Создание маскированного массива\n",
    "masked_data = ma.masked_where(data == -999, data)\n",
    "\n",
    "print(\"Original data:\", data)\n",
    "print(\"Masked data:\", masked_data)\n",
    "print(\"Mean (ignoring masked):\", masked_data.mean())\n",
    "print(\"Sum (ignoring masked):\", masked_data.sum())"
   ]
  },
  {
   "cell_type": "markdown",
   "metadata": {},
   "source": [
    "## Заключение\n",
    "\n",
    "NumPy предоставляет мощные инструменты для эффективной работы с данными. Эти особенности делают его незаменимым для научных вычислений!"
   ]
  }
 ],
 "metadata": {
  "kernelspec": {
   "display_name": "np_env",
   "language": "python",
   "name": "python3"
  },
  "language_info": {
   "name": "python",
   "version": "3.11.0"
  }
 },
 "nbformat": 4,
 "nbformat_minor": 2
}