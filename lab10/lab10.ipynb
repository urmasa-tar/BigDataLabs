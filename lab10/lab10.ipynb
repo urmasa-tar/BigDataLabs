{
 "cells": [
  {
   "cell_type": "code",
   "execution_count": 4,
   "id": "261a9b37",
   "metadata": {},
   "outputs": [],
   "source": [
    "import numpy as np\n",
    "import math"
   ]
  },
  {
   "cell_type": "markdown",
   "id": "2b595424",
   "metadata": {},
   "source": [
    "<h3>Task 1</h3>"
   ]
  },
  {
   "cell_type": "code",
   "execution_count": 5,
   "id": "32cf56af",
   "metadata": {},
   "outputs": [],
   "source": [
    "def hello_world(name):\n",
    "    name_length = len(name)\n",
    "    greeting = f\"Hello, {name}{name_length}!\"\n",
    "    return greeting"
   ]
  },
  {
   "cell_type": "code",
   "execution_count": 6,
   "id": "61d2f097",
   "metadata": {},
   "outputs": [],
   "source": [
    "assert hello_world(\"Alla\") == \"Hello, Alla4!\", \"Неверно\" \n",
    "assert hello_world(\"Python\") == \"Hello, Python6!\", \"Неверно\" \n",
    "assert hello_world(\"Alligator\") == \"Hello, Alligator9!\", \"Неверно\" \n",
    "assert hello_world(\"Cat\") == \"Hello, Cat3!\", \"Неверно\" "
   ]
  },
  {
   "cell_type": "markdown",
   "id": "a40ea240",
   "metadata": {},
   "source": [
    "<h3>Taks 2</h3>"
   ]
  },
  {
   "cell_type": "code",
   "execution_count": null,
   "id": "ae6bc236",
   "metadata": {},
   "outputs": [],
   "source": []
  },
  {
   "cell_type": "code",
   "execution_count": null,
   "id": "39f34121",
   "metadata": {},
   "outputs": [
    {
     "ename": "NameError",
     "evalue": "name 'geom_mean' is not defined",
     "output_type": "error",
     "traceback": [
      "\u001b[1;31m---------------------------------------------------------------------------\u001b[0m",
      "\u001b[1;31mNameError\u001b[0m                                 Traceback (most recent call last)",
      "Cell \u001b[1;32mIn[7], line 1\u001b[0m\n\u001b[1;32m----> 1\u001b[0m \u001b[38;5;28;01massert\u001b[39;00m \u001b[43mgeom_mean\u001b[49m(\u001b[38;5;241m0\u001b[39m, \u001b[38;5;241m6\u001b[39m, \u001b[38;5;241m7\u001b[39m) \u001b[38;5;241m==\u001b[39m \u001b[38;5;241m0.0\u001b[39m, \u001b[38;5;124m\"\u001b[39m\u001b[38;5;124mНеверно\u001b[39m\u001b[38;5;124m\"\u001b[39m \n\u001b[0;32m      2\u001b[0m \u001b[38;5;28;01massert\u001b[39;00m geom_mean(\u001b[38;5;241m1\u001b[39m, \u001b[38;5;241m5\u001b[39m, \u001b[38;5;241m8\u001b[39m) \u001b[38;5;241m==\u001b[39m \u001b[38;5;241m3.42\u001b[39m, \u001b[38;5;124m\"\u001b[39m\u001b[38;5;124mНеверно\u001b[39m\u001b[38;5;124m\"\u001b[39m \n\u001b[0;32m      3\u001b[0m \u001b[38;5;28;01massert\u001b[39;00m geom_mean(\u001b[38;5;241m25\u001b[39m, \u001b[38;5;241m34\u001b[39m, \u001b[38;5;241m100\u001b[39m) \u001b[38;5;241m==\u001b[39m \u001b[38;5;241m43.97\u001b[39m, \u001b[38;5;124m\"\u001b[39m\u001b[38;5;124mНеверно\u001b[39m\u001b[38;5;124m\"\u001b[39m \n",
      "\u001b[1;31mNameError\u001b[0m: name 'geom_mean' is not defined"
     ]
    }
   ],
   "source": [
    "assert geom_mean(0, 6, 7) == 0.0, \"Неверно\" \n",
    "assert geom_mean(1, 5, 8) == 3.42, \"Неверно\" \n",
    "assert geom_mean(25, 34, 100) == 43.97, \"Неверно\" \n",
    "assert geom_mean(-1, 5, 8) == None, \"Неверно\" \n",
    "assert geom_mean(-1, -5, 8) == None, \"Неверно\" \n",
    "assert geom_mean(-1, -5, -8) == None, \"Неверно\" \n",
    "assert geom_mean(25, 0, -100) == None, \"Неверно\" "
   ]
  }
 ],
 "metadata": {
  "kernelspec": {
   "display_name": "Python 3",
   "language": "python",
   "name": "python3"
  },
  "language_info": {
   "codemirror_mode": {
    "name": "ipython",
    "version": 3
   },
   "file_extension": ".py",
   "mimetype": "text/x-python",
   "name": "python",
   "nbconvert_exporter": "python",
   "pygments_lexer": "ipython3",
   "version": "3.13.3"
  }
 },
 "nbformat": 4,
 "nbformat_minor": 5
}
