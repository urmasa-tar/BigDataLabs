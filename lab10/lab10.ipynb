{
 "cells": [
  {
   "cell_type": "code",
   "execution_count": 4,
   "id": "261a9b37",
   "metadata": {},
   "outputs": [],
   "source": [
    "import numpy as np\n",
    "import math"
   ]
  },
  {
   "cell_type": "markdown",
   "id": "2b595424",
   "metadata": {},
   "source": [
    "<h3>Task 1</h3>"
   ]
  },
  {
   "cell_type": "code",
   "execution_count": 5,
   "id": "32cf56af",
   "metadata": {},
   "outputs": [],
   "source": [
    "def hello_world(name):\n",
    "    name_length = len(name)\n",
    "    greeting = f\"Hello, {name}{name_length}!\"\n",
    "    return greeting"
   ]
  },
  {
   "cell_type": "code",
   "execution_count": 6,
   "id": "61d2f097",
   "metadata": {},
   "outputs": [],
   "source": [
    "assert hello_world(\"Alla\") == \"Hello, Alla4!\", \"Неверно\" \n",
    "assert hello_world(\"Python\") == \"Hello, Python6!\", \"Неверно\" \n",
    "assert hello_world(\"Alligator\") == \"Hello, Alligator9!\", \"Неверно\" \n",
    "assert hello_world(\"Cat\") == \"Hello, Cat3!\", \"Неверно\" "
   ]
  },
  {
   "cell_type": "markdown",
   "id": "a40ea240",
   "metadata": {},
   "source": [
    "<h3>Taks 2</h3>"
   ]
  },
  {
   "cell_type": "code",
   "execution_count": 8,
   "id": "ae6bc236",
   "metadata": {},
   "outputs": [],
   "source": [
    "geom_mean = lambda a, b, c: None if a <= 0 or b <= 0 or c <= 0 else round((a * b * c) ** (1/3), 2)"
   ]
  },
  {
   "cell_type": "code",
   "execution_count": null,
   "id": "39f34121",
   "metadata": {},
   "outputs": [],
   "source": [
    "assert geom_mean(0, 6, 7) == 0.0\n",
    "assert geom_mean(1, 5, 8) == 3.42\n",
    "assert geom_mean(25, 34, 100) == 43.97\n",
    "assert geom_mean(-1, 5, 8) == None \n",
    "assert geom_mean(-1, -5, 8) == None\n",
    "assert geom_mean(-1, -5, -8) == None\n",
    "assert geom_mean(25, 0, -100) == None"
   ]
  },
  {
   "cell_type": "markdown",
   "id": "8abd9dba",
   "metadata": {},
   "source": [
    "<h3>Task 3</h3>"
   ]
  },
  {
   "cell_type": "code",
   "execution_count": 12,
   "id": "eb3f50cc",
   "metadata": {},
   "outputs": [],
   "source": [
    "def detector(brothers, new):\n",
    "    if len(brothers) == 11 or new in brothers:\n",
    "        return (brothers, \"пернатый\")\n",
    "    brothers.append(new)\n",
    "    return (brothers, \"брат\")\n",
    "\n",
    "assert detector([\"A\", \"B\", \"C\", \"D\", \"E\", \"F\", \"G\", \"H\", \"I\", \"J\", \"R\"], \"лебедь\") == (['A', 'B', 'C', 'D', 'E', 'F', \n",
    "'G', 'H', 'I', 'J', 'R'], 'пернатый'), \"Неверно\" \n",
    "assert detector([\"A\", \"B\", \"C\", \"D\", \"E\", \"F\", \"G\", \"H\"], \"лебедь\") == (['A', 'B', 'C', 'D', 'E', 'F', 'G', 'H', \n",
    "'лебедь'], 'брат'), \"Неверно\" \n",
    "assert detector([\"A\", \"B\", \"C\", \"D\", \"E\", \"F\", \"G\", \"H\"], \"H\") == (['A', 'B', 'C', 'D', 'E', 'F', 'G', 'H'], \n",
    "'пернатый'), \"Неверно\" "
   ]
  },
  {
   "cell_type": "markdown",
   "id": "3ba40fd2",
   "metadata": {},
   "source": [
    "<h3>Task 4</h3>"
   ]
  },
  {
   "cell_type": "code",
   "execution_count": 13,
   "id": "370d7068",
   "metadata": {},
   "outputs": [
    {
     "name": "stdout",
     "output_type": "stream",
     "text": [
      "-90 -9 -8\n"
     ]
    }
   ],
   "source": [
    "input_str = input()\n",
    "\n",
    "points = list(map(int, input_str.split()))\n",
    "minus = list(filter(lambda x: x < 0, points))\n",
    "minus.sort()\n",
    "\n",
    "print(\" \".join(map(str, minus)))"
   ]
  },
  {
   "cell_type": "markdown",
   "id": "a66bf656",
   "metadata": {},
   "source": [
    "<h3>Task 5</h3>"
   ]
  },
  {
   "cell_type": "code",
   "execution_count": 20,
   "id": "99baa1c2",
   "metadata": {},
   "outputs": [
    {
     "name": "stdout",
     "output_type": "stream",
     "text": [
      "Best: stud_Data(id=Владимир, balls=44), Worst: stud_Data(id=Василий, balls=25)\n"
     ]
    }
   ],
   "source": [
    "import numpy as np\n",
    "\n",
    "students = {\n",
    "    \"Анна\": [5, 10, 9, 7, 4],\n",
    "    \"Василий\": [10, 8, 2, 0, 5],\n",
    "    \"Владимир\": [10, 8, 9, 7, 10],\n",
    "    \"Ольга\": [6, 8, 9, 10, 7],\n",
    "    \"Софья\": [10, 9, 8, 6, 6],\n",
    "    \"Ян\": [2, 7, 8, 5, 9]\n",
    "}\n",
    "\n",
    "class stud_Data:\n",
    "    def __init__(self, name: str, results_st: list[int]):\n",
    "        self.id = name\n",
    "        self.balls = np.sum(results_st)\n",
    "\n",
    "    def __gt__(self, other):\n",
    "        if isinstance(other, stud_Data):\n",
    "            return self.balls > other.balls\n",
    "        raise TypeError(\"Операнд должен быть экземпляром stud_Data\")\n",
    "\n",
    "    def __lt__(self, other):\n",
    "        if isinstance(other, stud_Data):\n",
    "            return self.balls < other.balls\n",
    "        raise TypeError(\"Операнд должен быть экземпляром stud_Data\")\n",
    "\n",
    "    def __eq__(self, other):\n",
    "        if isinstance(other, stud_Data):\n",
    "            return self.balls == other.balls\n",
    "        return False\n",
    "\n",
    "    def __le__(self, other):\n",
    "        if isinstance(other, stud_Data):\n",
    "            return self.balls <= other.balls\n",
    "        raise TypeError(\"Операнд должен быть экземпляром stud_Data\")\n",
    "\n",
    "    def __ge__(self, other):\n",
    "        if isinstance(other, stud_Data):\n",
    "            return self.balls >= other.balls\n",
    "        raise TypeError(\"Операнд должен быть экземпляром stud_Data\")\n",
    "\n",
    "    def __repr__(self):\n",
    "        return f\"stud_Data(id={self.id}, balls={self.balls})\"\n",
    "\n",
    "class ranking_Calc:\n",
    "    def __init__(self):\n",
    "        pass\n",
    "\n",
    "    def best_worst(self, dict_st: dict) -> str:\n",
    "        best = []\n",
    "        worst = []\n",
    "        for name, calc in dict_st.items():\n",
    "            student = stud_Data(name, calc)\n",
    "            best.append(student)\n",
    "            worst.append(student)\n",
    "\n",
    "        best.sort(reverse=True)\n",
    "        worst.sort()\n",
    "\n",
    "        best_student = best[0] if best else None\n",
    "        worst_student = worst[0] if worst else None\n",
    "\n",
    "        return f\"Best: {best_student}, Worst: {worst_student}\"\n",
    "\n",
    "rank = ranking_Calc()\n",
    "print(rank.best_worst(students))\n"
   ]
  }
 ],
 "metadata": {
  "kernelspec": {
   "display_name": "Python 3",
   "language": "python",
   "name": "python3"
  },
  "language_info": {
   "codemirror_mode": {
    "name": "ipython",
    "version": 3
   },
   "file_extension": ".py",
   "mimetype": "text/x-python",
   "name": "python",
   "nbconvert_exporter": "python",
   "pygments_lexer": "ipython3",
   "version": "3.13.3"
  }
 },
 "nbformat": 4,
 "nbformat_minor": 5
}
