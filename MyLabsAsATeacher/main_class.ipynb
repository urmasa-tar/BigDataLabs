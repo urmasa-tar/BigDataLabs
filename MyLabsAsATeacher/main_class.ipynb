{
 "cells": [
  {
   "cell_type": "markdown",
   "metadata": {},
   "source": [
    "<h2>Базовые инструмены, конструкции и переменные в Python</h2>"
   ]
  },
  {
   "cell_type": "markdown",
   "metadata": {},
   "source": [
    "<h3>1) Ввод, вывод, основные типы и операции над нами</h3>"
   ]
  },
  {
   "cell_type": "markdown",
   "metadata": {},
   "source": [
    "<p><code>print()</code> - команда для вывода</p>\n",
    "<code>input()</code> - для ввода переменной"
   ]
  },
  {
   "cell_type": "code",
   "execution_count": 1,
   "metadata": {},
   "outputs": [
    {
     "name": "stdout",
     "output_type": "stream",
     "text": [
      "Hello world!\n"
     ]
    }
   ],
   "source": [
    "print(\"Hello world!\")"
   ]
  },
  {
   "cell_type": "code",
   "execution_count": null,
   "metadata": {},
   "outputs": [
    {
     "name": "stdout",
     "output_type": "stream",
     "text": [
      "34\n",
      "<class 'int'>\n"
     ]
    }
   ],
   "source": [
    "#n, m = map(int, input().split())\n",
    "\n",
    "# n = 3.14\n",
    "# n = \n",
    "# n = int() \n",
    "\n",
    "print(n)\n",
    "print(type(n))"
   ]
  },
  {
   "cell_type": "markdown",
   "metadata": {},
   "source": [
    "<p>Работа с числами, операции</p>\n",
    "\n",
    " "
   ]
  },
  {
   "cell_type": "code",
   "execution_count": null,
   "metadata": {},
   "outputs": [],
   "source": []
  },
  {
   "cell_type": "markdown",
   "metadata": {},
   "source": [
    "<h4>Пример №1 - Равноускоренное прямолинейное движение</h4>\n",
    "<code>x = x0 + v0xt + (axt2/2)</code>\n",
    "<h5></h5>"
   ]
  },
  {
   "cell_type": "code",
   "execution_count": null,
   "metadata": {},
   "outputs": [],
   "source": []
  },
  {
   "cell_type": "markdown",
   "metadata": {},
   "source": [
    "<h3>2) Условия и логические операции</h3>\n",
    "<p>if (<code>Условие</code>):</p>\n",
    "<p>-------------<code>Тогда</code></p>\n",
    "<p>elif (<code>Условие</code>):</p>\n",
    "<p>-------------<code>Тогда</code></p>\n",
    "<p>else:</p>\n",
    "<p>-------------<code>Тогда</code></p>"
   ]
  },
  {
   "cell_type": "code",
   "execution_count": null,
   "metadata": {},
   "outputs": [],
   "source": []
  },
  {
   "cell_type": "markdown",
   "metadata": {},
   "source": [
    "<h4>Пример №2 - Воссоздадим логическое вырадъжение</h4>\n",
    "<code>(x ∧ ¬y) ∨ (y ≡ z) ∨ ¬w</code> \n",
    "<p>1) Если условие выше выполнятеся, то требуется напечатать в консоли значение x, если x \"True\" и иначе w</p>\n",
    "<p>2) Иначе вывести y</p>"
   ]
  },
  {
   "cell_type": "code",
   "execution_count": null,
   "metadata": {},
   "outputs": [
    {
     "name": "stdout",
     "output_type": "stream",
     "text": [
      "True\n"
     ]
    }
   ],
   "source": [
    "x = True\n",
    "y = False\n",
    "z = True\n",
    "w = False\n",
    "print(x == bool(\"False\"))"
   ]
  }
 ],
 "metadata": {
  "kernelspec": {
   "display_name": "Python 3",
   "language": "python",
   "name": "python3"
  },
  "language_info": {
   "codemirror_mode": {
    "name": "ipython",
    "version": 3
   },
   "file_extension": ".py",
   "mimetype": "text/x-python",
   "name": "python",
   "nbconvert_exporter": "python",
   "pygments_lexer": "ipython3",
   "version": "3.13.2"
  }
 },
 "nbformat": 4,
 "nbformat_minor": 2
}
