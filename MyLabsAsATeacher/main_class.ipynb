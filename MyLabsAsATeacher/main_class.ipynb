{
 "cells": [
  {
   "cell_type": "markdown",
   "metadata": {},
   "source": [
    "<h2>Базовые инструмены, конструкции и переменные в Python</h2>"
   ]
  },
  {
   "cell_type": "markdown",
   "metadata": {},
   "source": [
    "<h3>1) Ввод, вывод, основные типы и операции над нами</h3>"
   ]
  },
  {
   "cell_type": "markdown",
   "metadata": {},
   "source": [
    "<p><code>print()</code> - команда для вывода</p>\n",
    "<code>input()</code> - для ввода переменной"
   ]
  },
  {
   "cell_type": "code",
   "execution_count": 1,
   "metadata": {},
   "outputs": [
    {
     "name": "stdout",
     "output_type": "stream",
     "text": [
      "Hello world!\n"
     ]
    }
   ],
   "source": [
    "print(\"Hello world!\")"
   ]
  },
  {
   "cell_type": "code",
   "execution_count": null,
   "metadata": {},
   "outputs": [
    {
     "name": "stdout",
     "output_type": "stream",
     "text": [
      "3.14\n",
      "<class 'float'>\n"
     ]
    }
   ],
   "source": [
    "\n",
    "n = 3.14\n",
    "# n = \n",
    "# n = int() \n",
    "\n",
    "print(n)\n",
    "print(type(n))"
   ]
  },
  {
   "cell_type": "markdown",
   "metadata": {},
   "source": [
    "<p>Работа с числами, операции</p>\n",
    "\n",
    " "
   ]
  },
  {
   "cell_type": "code",
   "execution_count": null,
   "metadata": {},
   "outputs": [],
   "source": []
  },
  {
   "cell_type": "markdown",
   "metadata": {},
   "source": [
    "<h4>Задание №1 - Равноускоренное прямолинейное движение</h4>\n",
    "<img src=\"data/MoveByX.png\"/>\n",
    "<h5>Вывести x.<br> На ввод подаются целое число t и остальные вещественные числа</h5>"
   ]
  },
  {
   "cell_type": "code",
   "execution_count": null,
   "metadata": {},
   "outputs": [],
   "source": []
  },
  {
   "cell_type": "markdown",
   "metadata": {},
   "source": [
    "<h3>2) Условия и логические операции</h3>\n",
    "<p>if (<code>Условие</code>):</p>\n",
    "<p>-------------<code>Тогда</code></p>\n",
    "<p>elif (<code>Условие</code>):</p>\n",
    "<p>-------------<code>Тогда</code></p>\n",
    "<p>else:</p>\n",
    "<p>-------------<code>Тогда</code></p>"
   ]
  },
  {
   "cell_type": "code",
   "execution_count": null,
   "metadata": {},
   "outputs": [],
   "source": []
  },
  {
   "cell_type": "markdown",
   "metadata": {},
   "source": [
    "<h4>Задание №2 - Воссоздадим логическое выражение</h4>\n",
    "<code>(x ∧ ¬y) ∨ (y ≡ z) ∨ ¬w</code> \n",
    "<p>1) Если условие выше выполнятеся, то требуется напечатать в консоли значение x, если x \"True\" и иначе w</p>\n",
    "<p>2) Иначе вывести y</p>\n",
    "<h5>Подсказка:</h5>\n",
    "<img src=\"data/LogOpers.png\" height = 250>"
   ]
  },
  {
   "cell_type": "code",
   "execution_count": null,
   "metadata": {},
   "outputs": [
    {
     "name": "stdout",
     "output_type": "stream",
     "text": [
      "True\n"
     ]
    }
   ],
   "source": [
    "x = True\n",
    "y = False\n",
    "z = True\n",
    "w = False\n",
    "\n"
   ]
  },
  {
   "cell_type": "markdown",
   "metadata": {},
   "source": [
    "<h4>3) Массивы python</h4>"
   ]
  },
  {
   "cell_type": "code",
   "execution_count": null,
   "metadata": {},
   "outputs": [],
   "source": [
    "# Ввод массива\n",
    "\n",
    "# Про range()"
   ]
  },
  {
   "cell_type": "markdown",
   "metadata": {},
   "source": [
    "<h4>Задание №3 - Худший из лучших</h4>\n",
    "<p>На ввод подается список результатов участников из n человек. У каждого спортсмена в списке указанны набраннве им очки. Выведите номер в списке спортсмена, который занял 4 место, если спортсменов больше, чем 3, а иначе результаты худшего из участников и его номер.</p>"
   ]
  },
  {
   "cell_type": "code",
   "execution_count": null,
   "metadata": {},
   "outputs": [],
   "source": [
    "list_rank = [12, 14, 13, 34, 0, 4, 56, 57] # Пример списка для рангов\n",
    "\n"
   ]
  },
  {
   "cell_type": "markdown",
   "metadata": {},
   "source": [
    "<h4>4) Циклы python</h4>\n",
    "<p><code>while</code> - цикл с условием</p>\n",
    "<p><code>for</code> - цикл, который итерируется по некой последовательности</p>"
   ]
  },
  {
   "cell_type": "code",
   "execution_count": null,
   "metadata": {},
   "outputs": [],
   "source": [
    "# Цикл while\n",
    "\n",
    "# Цикл for"
   ]
  },
  {
   "cell_type": "markdown",
   "metadata": {},
   "source": [
    "<p><code>break</code> - выход из цикла</p>\n",
    "<p><code>continue</code> - пропуск итерации</p>"
   ]
  },
  {
   "cell_type": "code",
   "execution_count": null,
   "metadata": {},
   "outputs": [],
   "source": []
  },
  {
   "cell_type": "markdown",
   "metadata": {},
   "source": [
    "<h4>Задание №4 - Контейнеры</h4>\n",
    "<p>На ввод подается список максимальной высоты стенки контейнера в каждой точке. Требуется выбрать две точки, куда мы поставим стенки, чтобы вместить максимальное количество воды. Количество точек при проверке не более 20ти</p>\n",
    "<img src = \"data/WaterTrap.png\"/>\n",
    "<h5>Подсказка:</h5>\n",
    "<img src=\"data/listInput.png\" height = 200>"
   ]
  },
  {
   "cell_type": "code",
   "execution_count": null,
   "metadata": {},
   "outputs": [],
   "source": []
  },
  {
   "cell_type": "markdown",
   "metadata": {},
   "source": [
    "<h4>Задание №5 - Большая разница</h4>\n",
    "<p>На ввод подается список роста для n человек в ряду. Найдите максимальную разницу в росте, между двумя людьми стоящими рядом.</p>\n"
   ]
  },
  {
   "cell_type": "markdown",
   "metadata": {},
   "source": [
    "<h4>Задание №6 - Контейнеры вернулись</h4>\n",
    "<p>Рассматривается n контейнеров, у которых правая стенка размера x метров, левая y метров, а расстояние между ними m метров. Каков объем в метрах кубических самого большого контейнера, если ширина всех ровно 1 метр?</p>\n",
    "\n",
    "<h5>Подсказка:</h5>\n",
    "<code>x, y, m = map(int, input().split())</code>"
   ]
  },
  {
   "cell_type": "markdown",
   "metadata": {},
   "source": [
    "<h4>Задание №7 - Камень, ножницы, бумага</h4>\n",
    "<p> Требуется реализовать иргу, показанную ниже. Ввод переменных проиcход в окне </p>\n",
    "<img src = \"data/rps.png\" />\n",
    "\n"
   ]
  }
 ],
 "metadata": {
  "kernelspec": {
   "display_name": "Python 3",
   "language": "python",
   "name": "python3"
  },
  "language_info": {
   "codemirror_mode": {
    "name": "ipython",
    "version": 3
   },
   "file_extension": ".py",
   "mimetype": "text/x-python",
   "name": "python",
   "nbconvert_exporter": "python",
   "pygments_lexer": "ipython3",
   "version": "3.13.2"
  }
 },
 "nbformat": 4,
 "nbformat_minor": 2
}
