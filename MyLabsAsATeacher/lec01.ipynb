{
 "cells": [
  {
   "cell_type": "markdown",
   "metadata": {},
   "source": [
    "<h2>Лекция №1 - > Работа с различными типами данных</h2>\n",
    "<img src=\"data/types_map.png\">\n",
    "\n"
   ]
  },
  {
   "cell_type": "markdown",
   "metadata": {},
   "source": [
    "<h3>1) List - список</h3>\n",
    "<img src=\"data/listImg.png\" height = 200 />"
   ]
  },
  {
   "cell_type": "code",
   "execution_count": 37,
   "metadata": {},
   "outputs": [
    {
     "name": "stdout",
     "output_type": "stream",
     "text": [
      "12\n",
      "234\n",
      "67\n",
      "Lors\n"
     ]
    }
   ],
   "source": [
    "# Различные способы ввода\n",
    "#n = [int(i) for i in input().split()]\n",
    "\n",
    "#print(n)\n",
    "# Итерация по списку\n",
    "n = 10\n",
    "for i in [12, 234, 67, 'Lors']:\n",
    "    print(i)"
   ]
  },
  {
   "cell_type": "code",
   "execution_count": 38,
   "metadata": {},
   "outputs": [
    {
     "name": "stdout",
     "output_type": "stream",
     "text": [
      "range(1, 10, 4)\n"
     ]
    }
   ],
   "source": [
    "print(range(1, n, 4))"
   ]
  },
  {
   "cell_type": "code",
   "execution_count": null,
   "metadata": {},
   "outputs": [],
   "source": []
  },
  {
   "cell_type": "markdown",
   "metadata": {},
   "source": [
    "<h4>Функции для списков</h4>\n",
    "\n",
    "<p><b>Временная сложность алгоритма</b> — это время Т, необходимое для его выполнения в зависимости от исходных данных.ы</p>\n",
    "<p><code>Big O</code> обозначает верхнюю границу сложности алгоритма.</p>\n",
    "<p>Cложность алгоритма измеряет количество элементарных операций, выполняемых алгоритмом, в зависимости от размера входных данных.</p>\n",
    "<img src=\"data/BigONotation.png\" height = 300/>"
   ]
  },
  {
   "cell_type": "code",
   "execution_count": null,
   "metadata": {},
   "outputs": [],
   "source": []
  },
  {
   "cell_type": "markdown",
   "metadata": {},
   "source": [
    "<h5>Специализированные функции для списков</h5>\n",
    "\n",
    "<img src=\"data/listFunc.png\" height = 400/>"
   ]
  },
  {
   "cell_type": "code",
   "execution_count": 39,
   "metadata": {},
   "outputs": [
    {
     "name": "stdout",
     "output_type": "stream",
     "text": [
      "[]\n"
     ]
    }
   ],
   "source": [
    "arr = []\n",
    "arr.append(10)\n",
    "arr.pop(0)\n",
    "print(arr)"
   ]
  },
  {
   "cell_type": "markdown",
   "metadata": {},
   "source": [
    "<h4>Пример задачи на работу со списком</h4>\n",
    "\n",
    "<p>Смерджим два массива</p>"
   ]
  },
  {
   "cell_type": "code",
   "execution_count": null,
   "metadata": {},
   "outputs": [],
   "source": []
  },
  {
   "cell_type": "markdown",
   "metadata": {},
   "source": [
    "<h3>2) Dict - словарь</h3>\n",
    "<img src=\"data/DictFunc.png\" height = 300 />"
   ]
  },
  {
   "cell_type": "code",
   "execution_count": 40,
   "metadata": {},
   "outputs": [
    {
     "name": "stdout",
     "output_type": "stream",
     "text": [
      "{0: '1', 1: '2', 2: '3', 3: '4', 4: '5', 5: '6', 6: '7', 7: '8', 8: '9'}\n"
     ]
    }
   ],
   "source": [
    "dict = {}\n",
    "\n",
    "\n",
    "st_n = input().split()\n",
    "for i in range(len(st_n)):\n",
    "    dict[i] = st_n[i]\n",
    "\n",
    "print(dict)"
   ]
  },
  {
   "cell_type": "markdown",
   "metadata": {},
   "source": [
    "<h5>Пример задачи со словарем</h5>\n",
    "\n",
    "<img src=\"data/RPSplus.png\" height = 250>"
   ]
  },
  {
   "cell_type": "code",
   "execution_count": 41,
   "metadata": {},
   "outputs": [
    {
     "ename": "KeyError",
     "evalue": "'1 2 3 4 5 6 7 8 9'",
     "output_type": "error",
     "traceback": [
      "\u001b[1;31m---------------------------------------------------------------------------\u001b[0m",
      "\u001b[1;31mKeyError\u001b[0m                                  Traceback (most recent call last)",
      "Cell \u001b[1;32mIn[41], line 6\u001b[0m\n\u001b[0;32m      3\u001b[0m s1 \u001b[38;5;241m=\u001b[39m \u001b[38;5;28minput\u001b[39m()\n\u001b[0;32m      4\u001b[0m s2 \u001b[38;5;241m=\u001b[39m \u001b[38;5;28minput\u001b[39m()\n\u001b[1;32m----> 6\u001b[0m \u001b[38;5;28;01mif\u001b[39;00m(\u001b[38;5;28;43mdict\u001b[39;49m\u001b[43m[\u001b[49m\u001b[43ms1\u001b[49m\u001b[43m]\u001b[49m \u001b[38;5;241m==\u001b[39m \u001b[38;5;28mdict\u001b[39m[s2]):\n\u001b[0;32m      7\u001b[0m     \u001b[38;5;28mprint\u001b[39m(\u001b[38;5;124m\"\u001b[39m\u001b[38;5;124mНичья\u001b[39m\u001b[38;5;124m\"\u001b[39m)\n\u001b[0;32m      8\u001b[0m \u001b[38;5;28;01melif\u001b[39;00m(\u001b[38;5;28mdict\u001b[39m[s1] \u001b[38;5;129;01min\u001b[39;00m dict_arr[\u001b[38;5;28mdict\u001b[39m[s2]]):\n",
      "\u001b[1;31mKeyError\u001b[0m: '1 2 3 4 5 6 7 8 9'"
     ]
    }
   ],
   "source": [
    "dict = {'Нож':0, 'Бум':1, 'Кам':2, 'Ящер':3, 'Спок':4,}\n",
    "dict_arr = {0: [1, 3], 1: [2, 4], 2: [3, 0], 3: [4, 1], 4: [0, 2],}\n",
    "s1 = input()\n",
    "s2 = input()\n",
    "\n",
    "if(dict[s1] == dict[s2]):\n",
    "    print(\"Ничья\")\n",
    "elif(dict[s1] in dict_arr[dict[s2]]):\n",
    "    print(\"Игрок 2\")\n",
    "else:\n",
    "    print(\"Игрок 1\")\n",
    "\n"
   ]
  },
  {
   "cell_type": "markdown",
   "metadata": {},
   "source": [
    "<h5>3) Двумерные подсписки и двумерные массивы</h5>"
   ]
  },
  {
   "cell_type": "code",
   "execution_count": null,
   "metadata": {},
   "outputs": [
    {
     "name": "stdout",
     "output_type": "stream",
     "text": [
      "[1, 2, 3] [4, 5, 6] [7, 8, 9]\n"
     ]
    }
   ],
   "source": [
    "# пример ввода\n",
    "arr = []\n",
    "n = int(input())\n",
    "for i in range(n):\n",
    "    sub_arr = [int(j) for j in input().split()]\n",
    "    arr.append(sub_arr)\n",
    "\n",
    "print(*arr)"
   ]
  },
  {
   "cell_type": "code",
   "execution_count": null,
   "metadata": {},
   "outputs": [
    {
     "name": "stdout",
     "output_type": "stream",
     "text": [
      "1\n"
     ]
    }
   ],
   "source": [
    "print(arr[0][0])"
   ]
  },
  {
   "cell_type": "markdown",
   "metadata": {},
   "source": [
    "<img src=\"data/Matrix.png\" height = 250/>"
   ]
  },
  {
   "cell_type": "code",
   "execution_count": null,
   "metadata": {},
   "outputs": [
    {
     "name": "stdout",
     "output_type": "stream",
     "text": [
      "[[1, 2, 3], [4, 5, 6], [7, 8, 9]]\n"
     ]
    }
   ],
   "source": [
    "n, m = map(int, input().split())\n",
    "matrix = []\n",
    "for i in range(n):\n",
    "    matrix.append([])\n",
    "    matrix[i] = [int(j) for j in input().split()]\n",
    "\n",
    "print(matrix)"
   ]
  },
  {
   "cell_type": "markdown",
   "metadata": {},
   "source": [
    "<h5>Пример задачи</h5>\n",
    "<p>Больше среднего<p>\n",
    "<p>Напишите программу, которая выводит количество элементов квадратной матрицы в каждой строке, больших среднего арифметического элементов данной строки.<p>"
   ]
  },
  {
   "cell_type": "code",
   "execution_count": null,
   "metadata": {},
   "outputs": [
    {
     "name": "stdout",
     "output_type": "stream",
     "text": [
      "2\n"
     ]
    }
   ],
   "source": [
    "n = int(input())\n",
    "matr = []\n",
    "for str_m in range(n):\n",
    "    matr.append([])\n",
    "    matr[str_m] = [int(i) for i in input().split()]\n",
    "\n",
    "save_p = []\n",
    "count = 0\n",
    "for i in range(len(matr)):\n",
    "    str_i = sum(matr[i])/n\n",
    "    for j in range(len(matr[i])):\n",
    "        if(matr[i][j] > str_i):\n",
    "            save_p.append(matr[i][j])\n",
    "\n",
    "print(count)\n",
    "\n",
    "\n"
   ]
  },
  {
   "cell_type": "markdown",
   "metadata": {},
   "source": [
    "<h5>4) Срезы списков</h5>\n",
    "\n",
    "<img src=\"data/catofarray.png\" height = 250/>"
   ]
  },
  {
   "cell_type": "code",
   "execution_count": null,
   "metadata": {},
   "outputs": [
    {
     "name": "stdout",
     "output_type": "stream",
     "text": [
      "[]\n"
     ]
    }
   ],
   "source": [
    "arr = [12, 40, 40, 67, 89, 87, 67, 56]\n",
    "\n",
    "print(arr[6:5])"
   ]
  },
  {
   "cell_type": "markdown",
   "metadata": {},
   "source": [
    "<h5>5) О чем забыли сказать и ещё больше задачек</h5>"
   ]
  },
  {
   "cell_type": "code",
   "execution_count": null,
   "metadata": {},
   "outputs": [
    {
     "name": "stdout",
     "output_type": "stream",
     "text": [
      "0 - key and Zero - value\n",
      "1 - key and One - value\n",
      "2 - key and Re - value\n"
     ]
    }
   ],
   "source": [
    "dict = {}\n",
    "\n",
    "dict[0] = \"Zero\"\n",
    "dict[1] = \"One\"\n",
    "dict[2] = \"Re\"\n",
    "\n",
    "# print(dict)\n",
    "\n",
    "# for i in dict:\n",
    "#    print(i)\n",
    "\n",
    "for i, j in dict.items():\n",
    "    print(f\"{i} - key and {j} - value\")"
   ]
  },
  {
   "cell_type": "code",
   "execution_count": 43,
   "metadata": {},
   "outputs": [
    {
     "ename": "TypeError",
     "evalue": "'int' object is not subscriptable",
     "output_type": "error",
     "traceback": [
      "\u001b[1;31m---------------------------------------------------------------------------\u001b[0m",
      "\u001b[1;31mTypeError\u001b[0m                                 Traceback (most recent call last)",
      "Cell \u001b[1;32mIn[43], line 13\u001b[0m\n\u001b[0;32m     10\u001b[0m st_has \u001b[38;5;241m=\u001b[39m []\n\u001b[0;32m     12\u001b[0m \u001b[38;5;28;01mfor\u001b[39;00m j \u001b[38;5;129;01min\u001b[39;00m \u001b[38;5;28mrange\u001b[39m(n):\n\u001b[1;32m---> 13\u001b[0m     \u001b[38;5;28;01mif\u001b[39;00m(\u001b[43mmatr\u001b[49m\u001b[43m[\u001b[49m\u001b[43mi\u001b[49m\u001b[43m]\u001b[49m\u001b[43m[\u001b[49m\u001b[43mj\u001b[49m\u001b[43m]\u001b[49m \u001b[38;5;129;01min\u001b[39;00m st_has):\n\u001b[0;32m     14\u001b[0m         res \u001b[38;5;241m=\u001b[39m \u001b[38;5;28;01mFalse\u001b[39;00m\n\u001b[0;32m     15\u001b[0m         \u001b[38;5;28;01mbreak\u001b[39;00m\n",
      "\u001b[1;31mTypeError\u001b[0m: 'int' object is not subscriptable"
     ]
    }
   ],
   "source": [
    "n = 9\n",
    "matr = []\n",
    "res = True\n",
    "for row in range(n):\n",
    "    matr.append([])\n",
    "    matr = [int(i) for i in input().split()]\n",
    "\n",
    "for i in range(n):\n",
    "\n",
    "    st_has = []\n",
    "\n",
    "    for j in range(n):\n",
    "        if(matr[i][j] in st_has):\n",
    "            res = False\n",
    "            break\n",
    "        st_has.append(matr[i][j])\n",
    "\n",
    "    if(not(res)):\n",
    "        break\n",
    "print(res)        "
   ]
  }
 ],
 "metadata": {
  "kernelspec": {
   "display_name": "Python 3",
   "language": "python",
   "name": "python3"
  },
  "language_info": {
   "codemirror_mode": {
    "name": "ipython",
    "version": 3
   },
   "file_extension": ".py",
   "mimetype": "text/x-python",
   "name": "python",
   "nbconvert_exporter": "python",
   "pygments_lexer": "ipython3",
   "version": "3.13.2"
  }
 },
 "nbformat": 4,
 "nbformat_minor": 2
}
